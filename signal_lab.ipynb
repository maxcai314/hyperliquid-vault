{
 "cells": [
  {
   "cell_type": "code",
   "execution_count": 12,
   "outputs": [],
   "source": [
    "from dataclasses import dataclass\n",
    "from scipy import stats, odr\n",
    "import matplotlib.pyplot as plt\n",
    "import numpy as np\n",
    "from data import DataSeries"
   ],
   "metadata": {
    "collapsed": false,
    "ExecuteTime": {
     "end_time": "2024-06-01T18:58:17.841240Z",
     "start_time": "2024-06-01T18:58:17.796796Z"
    }
   },
   "id": "6cbe3764f7d970d"
  },
  {
   "cell_type": "markdown",
   "source": [
    "# Signals\n",
    "Signals are used to predict the next hour's price based on historical price data. Signals are provided hourly measurements of price history, and return a boolean value indicating whether the price is expected to increase or decrease the next hour.\n",
    "\n",
    "\n",
    "# Linear Signal\n",
    "This signal predicts the next day's price by fitting a linear regression to the price data and extrapolating the next hour's price.\n",
    "It can be customized to consider a different number of measurements to fit the linear regression.\n",
    "\n",
    "The signal also checks for correlation strength using the r-value (pearson correlation coefficient) and only triggers if the correlation strength is above a certain threshold."
   ],
   "metadata": {
    "collapsed": false
   },
   "id": "2053a310fafb3446"
  },
  {
   "cell_type": "code",
   "execution_count": 13,
   "outputs": [],
   "source": [
    "@dataclass\n",
    "class LinearSignal:\n",
    "    measurements_to_consider: int\n",
    "\n",
    "    def predict_price(self, price_history: DataSeries) -> bool:\n",
    "        \"\"\"\n",
    "        Predicts by fitting a linear regression to the price data and extrapolating the next price.\n",
    "        \"\"\"\n",
    "        x = range(-1 - self.measurements_to_consider, 0)\n",
    "        y = [price_history[i].price for i in x]\n",
    "\n",
    "        slope, intercept, r_value, p_value, std_err = stats.linregress(x, y)\n",
    "\n",
    "        return slope > 0 and r_value > 0.4"
   ],
   "metadata": {
    "collapsed": false,
    "ExecuteTime": {
     "end_time": "2024-06-01T18:58:17.896020Z",
     "start_time": "2024-06-01T18:58:17.818184Z"
    }
   },
   "id": "912bac7415fce893"
  },
  {
   "cell_type": "markdown",
   "source": [
    "# Quadratic Signal\n",
    "This signal predicts the next price by fitting a quadratic regression to the price data and extrapolating.\n",
    "This should be able to detect recent peaks and troughs in the price data better than the linear signal, and adjust the prediction accordingly."
   ],
   "metadata": {
    "collapsed": false
   },
   "id": "afe081bc206f9ec9"
  },
  {
   "cell_type": "code",
   "execution_count": 14,
   "outputs": [],
   "source": [
    "@dataclass\n",
    "class QuadraticSignal:\n",
    "    measurements_to_consider: int\n",
    "\n",
    "    def predict_price(self, price_history: DataSeries) -> bool:\n",
    "        \"\"\"\n",
    "        Predicts by fitting a quadratic regression to the price data and extrapolating the next price.\n",
    "        \"\"\"\n",
    "        x = range(-1 - self.measurements_to_consider, 0)\n",
    "        y = [price_history[i].price for i in x]\n",
    "\n",
    "        data = odr.Data(x, y)\n",
    "        odr_obj = odr.ODR(data, odr.quadratic)\n",
    "        output = odr_obj.run()\n",
    "        coeffs = output.beta\n",
    "        next_price = coeffs[2]\n",
    "\n",
    "        return next_price > price_history[-1].price"
   ],
   "metadata": {
    "collapsed": false,
    "ExecuteTime": {
     "end_time": "2024-06-01T18:58:17.897738Z",
     "start_time": "2024-06-01T18:58:17.832787Z"
    }
   },
   "id": "2928b5581e07a2b4"
  },
  {
   "cell_type": "markdown",
   "source": [
    "# Testing the signal\n",
    "Signals are back-tested using the `test_signal` function, which simulates the signal on historical ETH data.\n",
    "Data is imported from a csv file containing hourly records of ETH price action over the past few months.\n",
    "The signal is used to change the leverage of the portfolio between 1x and 0.5x based on the signal's prediction.\n",
    "\n",
    "A more refined approach could be used in the future to optimize the leverage based on the signal's confidence level."
   ],
   "metadata": {
    "collapsed": false
   },
   "id": "9fb055b0144d534b"
  },
  {
   "cell_type": "code",
   "execution_count": 15,
   "outputs": [],
   "source": [
    "data = DataSeries.from_csv('resources/eth-usd-hourly.csv')\n",
    "\n",
    "HISTORY_LENGTH = 24\n",
    "\n",
    "def test_signal(predictor, name='Investment Strategy', plot_price=True, plot_normalized=False):\n",
    "    num_correct = 0\n",
    "    num_true = 0\n",
    "\n",
    "    eth_prices = np.array([entry.price for entry in data])\n",
    "    t = np.arange(len(data), dtype=int)\n",
    "    portfolio = np.zeros_like(t, dtype=float)\n",
    "    portfolio[0:HISTORY_LENGTH] = data[0:HISTORY_LENGTH].price  # first week doesn't count\n",
    "\n",
    "    leverage = 1\n",
    "\n",
    "    # leverage changes\n",
    "    increase_leverage = [0]\n",
    "    decrease_leverage = []\n",
    "\n",
    "    for i in range(HISTORY_LENGTH, len(data) - 1):\n",
    "        history = data[i - HISTORY_LENGTH:i + 1]\n",
    "        prediction = predictor.predict_price(history)\n",
    "\n",
    "        yesterday = eth_prices[i - 1]\n",
    "        today = eth_prices[i]\n",
    "\n",
    "        price_change = today - yesterday\n",
    "        yesterday_portfolio = portfolio[i - 1]\n",
    "        num_eth = yesterday_portfolio / yesterday\n",
    "        portfolio[i] = yesterday_portfolio + (num_eth * price_change * leverage)\n",
    "\n",
    "        tomorrow = eth_prices[i + 1]\n",
    "        actual_result = tomorrow > today\n",
    "\n",
    "        if prediction:\n",
    "            if leverage != 1:\n",
    "                increase_leverage.append(i)\n",
    "            leverage = 1\n",
    "        else:\n",
    "            if leverage != 0.5:\n",
    "                decrease_leverage.append(i)\n",
    "            leverage = 0.5\n",
    "\n",
    "        if prediction:\n",
    "            num_true += 1\n",
    "\n",
    "        if actual_result == prediction:\n",
    "            num_correct += 1\n",
    "\n",
    "    increase_leverage.append(len(data) - 1)\n",
    "    decrease_leverage.append(len(data) - 1)\n",
    "\n",
    "    if plot_price:\n",
    "        plt.figure()\n",
    "        plt.title(name)\n",
    "        plt.xlabel('Hours Passed')\n",
    "        plt.ylabel('Value ($)')\n",
    "        plt.plot(t, eth_prices, label='Eth Price')\n",
    "        plt.plot(t[HISTORY_LENGTH:len(data) - 1], portfolio[HISTORY_LENGTH:len(data) - 1], label='Portfolio Value')\n",
    "        for start, end in zip(increase_leverage, decrease_leverage):\n",
    "            plt.axvspan(start, end, color='g', alpha=0.2)\n",
    "        for start, end in zip(decrease_leverage, increase_leverage[1:]):\n",
    "            plt.axvspan(start, end, color='r', alpha=0.2)\n",
    "        plt.legend()\n",
    "        plt.show()\n",
    "\n",
    "    if plot_normalized:\n",
    "        plt.figure()\n",
    "        plt.title(name)\n",
    "        plt.xlabel('Hours Passed')\n",
    "        plt.ylabel('Value (ETH)')\n",
    "        plt.plot(t, eth_prices / eth_prices, label='Eth Price')\n",
    "        plt.plot(t[HISTORY_LENGTH:len(data) - 1], (portfolio / eth_prices)[HISTORY_LENGTH:len(data) - 1], label='Portfolio Value')\n",
    "        for start, end in zip(increase_leverage, decrease_leverage):\n",
    "            plt.axvspan(start, end, color='g', alpha=0.2)\n",
    "        for start, end in zip(decrease_leverage, increase_leverage[1:]):\n",
    "            plt.axvspan(start, end, color='r', alpha=0.2)\n",
    "        plt.legend()\n",
    "        plt.show()\n",
    "\n",
    "    print(name)\n",
    "    print(f'Bullish ratio: {num_true / (len(data) - HISTORY_LENGTH - 1)}')\n",
    "    print(f'Accuracy: {num_correct / (len(data) - HISTORY_LENGTH - 1)}')\n",
    "    print()"
   ],
   "metadata": {
    "collapsed": false,
    "ExecuteTime": {
     "end_time": "2024-06-01T18:58:17.932649Z",
     "start_time": "2024-06-01T18:58:17.851047Z"
    }
   },
   "id": "c6f5ac8914b99e2d"
  },
  {
   "cell_type": "code",
   "execution_count": null,
   "outputs": [],
   "source": [
    "signal = LinearSignal(4)\n",
    "test_signal(signal, name=f'Linear ({signal.measurements_to_consider})', plot_price=True, plot_normalized=True)"
   ],
   "metadata": {
    "collapsed": false,
    "is_executing": true,
    "ExecuteTime": {
     "start_time": "2024-06-01T18:58:17.887088Z"
    }
   },
   "id": "706ad38f85dcfe58"
  },
  {
   "cell_type": "code",
   "execution_count": null,
   "outputs": [],
   "source": [
    "signal = QuadraticSignal(6)\n",
    "test_signal(signal, name=f'Quadratic ({signal.measurements_to_consider})', plot_price=True, plot_normalized=True)"
   ],
   "metadata": {
    "collapsed": false,
    "is_executing": true
   },
   "id": "93e8eb43db18a1cf"
  }
 ],
 "metadata": {
  "kernelspec": {
   "display_name": "Python 3",
   "language": "python",
   "name": "python3"
  },
  "language_info": {
   "codemirror_mode": {
    "name": "ipython",
    "version": 2
   },
   "file_extension": ".py",
   "mimetype": "text/x-python",
   "name": "python",
   "nbconvert_exporter": "python",
   "pygments_lexer": "ipython2",
   "version": "2.7.6"
  }
 },
 "nbformat": 4,
 "nbformat_minor": 5
}
